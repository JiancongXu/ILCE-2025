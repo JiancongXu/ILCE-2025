{
 "cells": [
  {
   "cell_type": "code",
   "execution_count": 1,
   "id": "cf7b4967",
   "metadata": {},
   "outputs": [],
   "source": [
    "from nesp_lib import Port, Pump, PumpingDirection                                                 # to plot"
   ]
  },
  {
   "cell_type": "code",
   "execution_count": 2,
   "id": "8c880938",
   "metadata": {},
   "outputs": [],
   "source": [
    "port = Port('COM4', baud_rate = 19200)\n",
    "\n",
    "pump = Pump(port)                                                      # pump load syringe"
   ]
  },
  {
   "cell_type": "code",
   "execution_count": 3,
   "id": "5e23f539",
   "metadata": {},
   "outputs": [],
   "source": [
    "pump.syringe_diameter = 19.13                              # SGE Syringe 50 mL : 27.5 mm, 10 mL : 14.57 mm"
   ]
  },
  {
   "cell_type": "code",
   "execution_count": 5,
   "id": "2c379fff",
   "metadata": {},
   "outputs": [],
   "source": [
    "pump.pumping_rate = 5/300"
   ]
  },
  {
   "cell_type": "code",
   "execution_count": 12,
   "id": "87bea565",
   "metadata": {},
   "outputs": [],
   "source": [
    "pump.pumping_direction = PumpingDirection.INFUSE"
   ]
  },
  {
   "cell_type": "code",
   "execution_count": 4,
   "id": "864e7e63",
   "metadata": {},
   "outputs": [],
   "source": [
    "pump.run(False)"
   ]
  },
  {
   "cell_type": "code",
   "execution_count": null,
   "id": "664e57e6",
   "metadata": {},
   "outputs": [],
   "source": [
    "pump.stop()"
   ]
  },
  {
   "cell_type": "code",
   "execution_count": 3,
   "id": "62ef9845",
   "metadata": {},
   "outputs": [],
   "source": [
    "pump.pumping_rate = 20"
   ]
  },
  {
   "cell_type": "code",
   "execution_count": 16,
   "id": "b2f7ce50",
   "metadata": {},
   "outputs": [],
   "source": [
    "pump.pumping_direction = PumpingDirection.WITHDRAW"
   ]
  }
 ],
 "metadata": {
  "kernelspec": {
   "display_name": "Python 3 (ipykernel)",
   "language": "python",
   "name": "python3"
  },
  "language_info": {
   "codemirror_mode": {
    "name": "ipython",
    "version": 3
   },
   "file_extension": ".py",
   "mimetype": "text/x-python",
   "name": "python",
   "nbconvert_exporter": "python",
   "pygments_lexer": "ipython3",
   "version": "3.9.12"
  }
 },
 "nbformat": 4,
 "nbformat_minor": 5
}
